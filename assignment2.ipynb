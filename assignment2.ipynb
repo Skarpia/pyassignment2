{
 "cells": [
  {
   "cell_type": "code",
   "execution_count": 43,
   "id": "7ecf481f-3708-4c5f-93d8-c453782f8506",
   "metadata": {},
   "outputs": [
    {
     "name": "stdout",
     "output_type": "stream",
     "text": [
      "{}\n",
      "before append: []\n",
      "after append: [10, 20, 30, 40]\n",
      "[10, '15', 20, 30, 40]\n",
      "list after extend: [10, '15', 20, 30, 40, 50, 60, 70]\n",
      "[10, '15', 20, 30, 40, 50, 60]\n",
      "[10, 20, 30, 40, 50, 60, 70]\n"
     ]
    },
    {
     "data": {
      "text/plain": [
       "2"
      ]
     },
     "execution_count": 43,
     "metadata": {},
     "output_type": "execute_result"
    }
   ],
   "source": [
    "#python PLP assignment 2\n",
    "#creating an empty list\n",
    "my_list = {}\n",
    "print(my_list)\n",
    "#appending items on a list list\n",
    "my_list = []\n",
    "print(\"before append:\", my_list)\n",
    "#append function\n",
    "my_list.append(10)\n",
    "my_list.append(20)\n",
    "my_list.append(30)\n",
    "my_list.append(40)\n",
    "print(\"after append:\",my_list)\n",
    "#insert an element in the list\n",
    "my_list.insert(1, \"15\")\n",
    "print(my_list)\n",
    "#using extend function\n",
    "my_list2 = {50, 60, 70}\n",
    "my_list.extend(my_list2)\n",
    "print(\"list after extend:\", my_list)\n",
    "#removing an element from a list\n",
    "del my_list[-1]\n",
    "print(my_list)\n",
    "#sorting a list in ascending order\n",
    "my_list = [10, 20, 30, 40, 50, 60, 70]\n",
    "my_list.sort()\n",
    "print(my_list)\n",
    "#finding an element using index\n",
    "my_list = [10, 20, 30, 40, 50, 60, 70]\n",
    "my_list.index(30)"
   ]
  },
  {
   "cell_type": "code",
   "execution_count": null,
   "id": "0e30d547-f803-480a-8301-a31e76987c86",
   "metadata": {},
   "outputs": [],
   "source": []
  },
  {
   "cell_type": "code",
   "execution_count": null,
   "id": "1f4027fa-366f-4542-9166-747659ff14f2",
   "metadata": {},
   "outputs": [],
   "source": []
  }
 ],
 "metadata": {
  "kernelspec": {
   "display_name": "Python 3 (ipykernel)",
   "language": "python",
   "name": "python3"
  },
  "language_info": {
   "codemirror_mode": {
    "name": "ipython",
    "version": 3
   },
   "file_extension": ".py",
   "mimetype": "text/x-python",
   "name": "python",
   "nbconvert_exporter": "python",
   "pygments_lexer": "ipython3",
   "version": "3.13.5"
  }
 },
 "nbformat": 4,
 "nbformat_minor": 5
}
